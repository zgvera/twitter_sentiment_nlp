{
 "cells": [
  {
   "cell_type": "code",
   "execution_count": 1,
   "id": "moved-terrorist",
   "metadata": {},
   "outputs": [],
   "source": [
    "import pandas as pd\n",
    "import numpy as np\n",
    "import pickle\n",
    "\n",
    "from sentence_transformers import SentenceTransformer\n",
    "\n",
    "from tqdm import tqdm"
   ]
  },
  {
   "cell_type": "code",
   "execution_count": 2,
   "id": "expensive-walker",
   "metadata": {},
   "outputs": [],
   "source": [
    "# load data\n",
    "df_startups = pd.read_json('database_json/startups.json')"
   ]
  },
  {
   "cell_type": "code",
   "execution_count": 3,
   "id": "interstate-mailman",
   "metadata": {},
   "outputs": [],
   "source": [
    "# df_startups.head()"
   ]
  },
  {
   "cell_type": "code",
   "execution_count": 4,
   "id": "trying-medicaid",
   "metadata": {
    "scrolled": true
   },
   "outputs": [],
   "source": [
    "# df_startups.info()"
   ]
  },
  {
   "cell_type": "code",
   "execution_count": 5,
   "id": "friendly-manual",
   "metadata": {},
   "outputs": [
    {
     "data": {
      "text/plain": [
       "0       <p>The Acquire App offers an Immersive Experie...\n",
       "1       <p>They offer two products such as DegrAid pro...\n",
       "2       <p>Affective Markets calculates the success po...\n",
       "3       <p>Afresh uses AI to produce recommendations i...\n",
       "4       <p>AiDock brings the actual revolution to digi...\n",
       "                              ...                        \n",
       "9891    <p>What’s your target market? (Choose more tha...\n",
       "9892                                                     \n",
       "9893    <p>1Lorem ipsum dolor sit amet, consectetuer a...\n",
       "9894    <p><strong>Company Description</strong></p><p>...\n",
       "9895    <p><strong>Company Description</strong></p><p>...\n",
       "Name: solutions_products_services, Length: 9896, dtype: object"
      ]
     },
     "execution_count": 5,
     "metadata": {},
     "output_type": "execute_result"
    }
   ],
   "source": [
    "df_startups['solutions_products_services']"
   ]
  },
  {
   "cell_type": "code",
   "execution_count": 6,
   "id": "comparative-sweet",
   "metadata": {},
   "outputs": [],
   "source": [
    "# separate out desired info\n",
    "df_descriptions = df_startups[['id', 'solutions_products_services', 'company_legal_name', 'account_type']]"
   ]
  },
  {
   "cell_type": "code",
   "execution_count": 7,
   "id": "chief-jungle",
   "metadata": {},
   "outputs": [
    {
     "data": {
      "text/html": [
       "<div>\n",
       "<style scoped>\n",
       "    .dataframe tbody tr th:only-of-type {\n",
       "        vertical-align: middle;\n",
       "    }\n",
       "\n",
       "    .dataframe tbody tr th {\n",
       "        vertical-align: top;\n",
       "    }\n",
       "\n",
       "    .dataframe thead th {\n",
       "        text-align: right;\n",
       "    }\n",
       "</style>\n",
       "<table border=\"1\" class=\"dataframe\">\n",
       "  <thead>\n",
       "    <tr style=\"text-align: right;\">\n",
       "      <th></th>\n",
       "      <th>id</th>\n",
       "      <th>solutions_products_services</th>\n",
       "      <th>company_legal_name</th>\n",
       "      <th>account_type</th>\n",
       "    </tr>\n",
       "  </thead>\n",
       "  <tbody>\n",
       "    <tr>\n",
       "      <th>0</th>\n",
       "      <td>197</td>\n",
       "      <td>&lt;p&gt;The Acquire App offers an Immersive Experie...</td>\n",
       "      <td>Acquire App</td>\n",
       "      <td>DEMO</td>\n",
       "    </tr>\n",
       "    <tr>\n",
       "      <th>1</th>\n",
       "      <td>198</td>\n",
       "      <td>&lt;p&gt;They offer two products such as DegrAid pro...</td>\n",
       "      <td>Polymateria Limited</td>\n",
       "      <td>DEMO</td>\n",
       "    </tr>\n",
       "    <tr>\n",
       "      <th>2</th>\n",
       "      <td>199</td>\n",
       "      <td>&lt;p&gt;Affective Markets calculates the success po...</td>\n",
       "      <td>Affective Markets</td>\n",
       "      <td>DEMO</td>\n",
       "    </tr>\n",
       "    <tr>\n",
       "      <th>3</th>\n",
       "      <td>200</td>\n",
       "      <td>&lt;p&gt;Afresh uses AI to produce recommendations i...</td>\n",
       "      <td>Afresh Technologies Inc.</td>\n",
       "      <td>DEMO</td>\n",
       "    </tr>\n",
       "    <tr>\n",
       "      <th>4</th>\n",
       "      <td>201</td>\n",
       "      <td>&lt;p&gt;AiDock brings the actual revolution to digi...</td>\n",
       "      <td>Aidock Ltd.</td>\n",
       "      <td>DEMO</td>\n",
       "    </tr>\n",
       "  </tbody>\n",
       "</table>\n",
       "</div>"
      ],
      "text/plain": [
       "    id                        solutions_products_services  \\\n",
       "0  197  <p>The Acquire App offers an Immersive Experie...   \n",
       "1  198  <p>They offer two products such as DegrAid pro...   \n",
       "2  199  <p>Affective Markets calculates the success po...   \n",
       "3  200  <p>Afresh uses AI to produce recommendations i...   \n",
       "4  201  <p>AiDock brings the actual revolution to digi...   \n",
       "\n",
       "         company_legal_name account_type  \n",
       "0               Acquire App         DEMO  \n",
       "1       Polymateria Limited         DEMO  \n",
       "2         Affective Markets         DEMO  \n",
       "3  Afresh Technologies Inc.         DEMO  \n",
       "4               Aidock Ltd.         DEMO  "
      ]
     },
     "execution_count": 7,
     "metadata": {},
     "output_type": "execute_result"
    }
   ],
   "source": [
    "df_descriptions.head()"
   ]
  },
  {
   "cell_type": "code",
   "execution_count": 8,
   "id": "communist-lyric",
   "metadata": {},
   "outputs": [
    {
     "name": "stderr",
     "output_type": "stream",
     "text": [
      "<ipython-input-8-e98281160a54>:10: SettingWithCopyWarning: \n",
      "A value is trying to be set on a copy of a slice from a DataFrame.\n",
      "Try using .loc[row_indexer,col_indexer] = value instead\n",
      "\n",
      "See the caveats in the documentation: https://pandas.pydata.org/pandas-docs/stable/user_guide/indexing.html#returning-a-view-versus-a-copy\n",
      "  df_descriptions['solutions_products_services'] = df_descriptions['solutions_products_services'].apply(remove_format_tags)\n"
     ]
    }
   ],
   "source": [
    "# clean - remove html tags\n",
    "def remove_format_tags(text):\n",
    "    text = text.replace('<p>', '')\n",
    "    text = text.replace('</p>', '')\n",
    "    text = text.replace('<strong>', '')\n",
    "    text = text.replace('</strong>', '')\n",
    "    \n",
    "    return text\n",
    "\n",
    "df_descriptions['solutions_products_services'] = df_descriptions['solutions_products_services'].apply(remove_format_tags)"
   ]
  },
  {
   "cell_type": "code",
   "execution_count": 9,
   "id": "legal-baghdad",
   "metadata": {},
   "outputs": [
    {
     "data": {
      "text/html": [
       "<div>\n",
       "<style scoped>\n",
       "    .dataframe tbody tr th:only-of-type {\n",
       "        vertical-align: middle;\n",
       "    }\n",
       "\n",
       "    .dataframe tbody tr th {\n",
       "        vertical-align: top;\n",
       "    }\n",
       "\n",
       "    .dataframe thead th {\n",
       "        text-align: right;\n",
       "    }\n",
       "</style>\n",
       "<table border=\"1\" class=\"dataframe\">\n",
       "  <thead>\n",
       "    <tr style=\"text-align: right;\">\n",
       "      <th></th>\n",
       "      <th>id</th>\n",
       "      <th>solutions_products_services</th>\n",
       "      <th>company_legal_name</th>\n",
       "      <th>account_type</th>\n",
       "    </tr>\n",
       "  </thead>\n",
       "  <tbody>\n",
       "    <tr>\n",
       "      <th>0</th>\n",
       "      <td>197</td>\n",
       "      <td>The Acquire App offers an Immersive Experience...</td>\n",
       "      <td>Acquire App</td>\n",
       "      <td>DEMO</td>\n",
       "    </tr>\n",
       "    <tr>\n",
       "      <th>1</th>\n",
       "      <td>198</td>\n",
       "      <td>They offer two products such as DegrAid produc...</td>\n",
       "      <td>Polymateria Limited</td>\n",
       "      <td>DEMO</td>\n",
       "    </tr>\n",
       "    <tr>\n",
       "      <th>2</th>\n",
       "      <td>199</td>\n",
       "      <td>Affective Markets calculates the success poten...</td>\n",
       "      <td>Affective Markets</td>\n",
       "      <td>DEMO</td>\n",
       "    </tr>\n",
       "    <tr>\n",
       "      <th>3</th>\n",
       "      <td>200</td>\n",
       "      <td>Afresh uses AI to produce recommendations in a...</td>\n",
       "      <td>Afresh Technologies Inc.</td>\n",
       "      <td>DEMO</td>\n",
       "    </tr>\n",
       "    <tr>\n",
       "      <th>4</th>\n",
       "      <td>201</td>\n",
       "      <td>AiDock brings the actual revolution to digital...</td>\n",
       "      <td>Aidock Ltd.</td>\n",
       "      <td>DEMO</td>\n",
       "    </tr>\n",
       "  </tbody>\n",
       "</table>\n",
       "</div>"
      ],
      "text/plain": [
       "    id                        solutions_products_services  \\\n",
       "0  197  The Acquire App offers an Immersive Experience...   \n",
       "1  198  They offer two products such as DegrAid produc...   \n",
       "2  199  Affective Markets calculates the success poten...   \n",
       "3  200  Afresh uses AI to produce recommendations in a...   \n",
       "4  201  AiDock brings the actual revolution to digital...   \n",
       "\n",
       "         company_legal_name account_type  \n",
       "0               Acquire App         DEMO  \n",
       "1       Polymateria Limited         DEMO  \n",
       "2         Affective Markets         DEMO  \n",
       "3  Afresh Technologies Inc.         DEMO  \n",
       "4               Aidock Ltd.         DEMO  "
      ]
     },
     "execution_count": 9,
     "metadata": {},
     "output_type": "execute_result"
    }
   ],
   "source": [
    "# check cleaning worked as expected\n",
    "df_descriptions.head()"
   ]
  },
  {
   "cell_type": "code",
   "execution_count": 10,
   "id": "conditional-persian",
   "metadata": {},
   "outputs": [],
   "source": [
    "# load desired model\n",
    "roberta_model = SentenceTransformer('paraphrase-distilroberta-base-v1');\n",
    "all_mpnet_v2_model = SentenceTransformer('all-mpnet-base-v2');"
   ]
  },
  {
   "cell_type": "code",
   "execution_count": 11,
   "id": "announced-terminology",
   "metadata": {},
   "outputs": [],
   "source": [
    "# dictionary to store ids, names, and embeddings (from both models)\n",
    "temp_emb_dict = {'id_': [], 'company_name': [], 'account_type': [], 'roberta_emb': [], 'mpnet2_emb': []}\n",
    "\n",
    "def create_embeddings(row):\n",
    "    temp_emb_dict['id_'].append(row[0])\n",
    "    temp_emb_dict['company_name'].append(row[2])\n",
    "    temp_emb_dict['account_type'].append(row[3])\n",
    "    temp_emb_dict['roberta_emb'].append(roberta_model.encode(row[1]))\n",
    "    temp_emb_dict['mpnet2_emb'].append(all_mpnet_v2_model.encode(row[1]))"
   ]
  },
  {
   "cell_type": "code",
   "execution_count": 12,
   "id": "angry-monday",
   "metadata": {},
   "outputs": [
    {
     "name": "stderr",
     "output_type": "stream",
     "text": [
      "100%|██████████| 9896/9896 [34:54<00:00,  4.73it/s]  \n"
     ]
    },
    {
     "data": {
      "text/plain": [
       "0       None\n",
       "1       None\n",
       "2       None\n",
       "3       None\n",
       "4       None\n",
       "        ... \n",
       "9891    None\n",
       "9892    None\n",
       "9893    None\n",
       "9894    None\n",
       "9895    None\n",
       "Length: 9896, dtype: object"
      ]
     },
     "execution_count": 12,
     "metadata": {},
     "output_type": "execute_result"
    }
   ],
   "source": [
    "# to show progress\n",
    "tqdm.pandas()\n",
    "\n",
    "# create embedding dictionaries\n",
    "df_descriptions.progress_apply(create_embeddings, axis='columns')"
   ]
  },
  {
   "cell_type": "code",
   "execution_count": 13,
   "id": "expanded-shark",
   "metadata": {},
   "outputs": [],
   "source": [
    "df_emb = pd.DataFrame(temp_emb_dict)"
   ]
  },
  {
   "cell_type": "code",
   "execution_count": 14,
   "id": "rising-venture",
   "metadata": {},
   "outputs": [
    {
     "data": {
      "text/html": [
       "<div>\n",
       "<style scoped>\n",
       "    .dataframe tbody tr th:only-of-type {\n",
       "        vertical-align: middle;\n",
       "    }\n",
       "\n",
       "    .dataframe tbody tr th {\n",
       "        vertical-align: top;\n",
       "    }\n",
       "\n",
       "    .dataframe thead th {\n",
       "        text-align: right;\n",
       "    }\n",
       "</style>\n",
       "<table border=\"1\" class=\"dataframe\">\n",
       "  <thead>\n",
       "    <tr style=\"text-align: right;\">\n",
       "      <th></th>\n",
       "      <th>id_</th>\n",
       "      <th>company_name</th>\n",
       "      <th>account_type</th>\n",
       "      <th>roberta_emb</th>\n",
       "      <th>mpnet2_emb</th>\n",
       "    </tr>\n",
       "  </thead>\n",
       "  <tbody>\n",
       "    <tr>\n",
       "      <th>0</th>\n",
       "      <td>197</td>\n",
       "      <td>Acquire App</td>\n",
       "      <td>DEMO</td>\n",
       "      <td>[0.014017829, 0.20147103, -0.10118152, -0.0632...</td>\n",
       "      <td>[0.057079125, -0.008974648, -0.037592165, -0.0...</td>\n",
       "    </tr>\n",
       "    <tr>\n",
       "      <th>1</th>\n",
       "      <td>198</td>\n",
       "      <td>Polymateria Limited</td>\n",
       "      <td>DEMO</td>\n",
       "      <td>[0.035784442, 0.44326508, -0.07529494, 0.04603...</td>\n",
       "      <td>[0.080428354, 0.02010855, -0.02703527, -0.0144...</td>\n",
       "    </tr>\n",
       "    <tr>\n",
       "      <th>2</th>\n",
       "      <td>199</td>\n",
       "      <td>Affective Markets</td>\n",
       "      <td>DEMO</td>\n",
       "      <td>[-0.06682719, 0.4243962, -0.018392464, -0.1590...</td>\n",
       "      <td>[0.001699026, 0.037716478, -0.058805294, -0.02...</td>\n",
       "    </tr>\n",
       "    <tr>\n",
       "      <th>3</th>\n",
       "      <td>200</td>\n",
       "      <td>Afresh Technologies Inc.</td>\n",
       "      <td>DEMO</td>\n",
       "      <td>[0.09948933, -0.1278632, 0.01722331, 0.1215965...</td>\n",
       "      <td>[-0.018926082, 0.034481186, -0.054234214, -0.0...</td>\n",
       "    </tr>\n",
       "    <tr>\n",
       "      <th>4</th>\n",
       "      <td>201</td>\n",
       "      <td>Aidock Ltd.</td>\n",
       "      <td>DEMO</td>\n",
       "      <td>[0.23271781, 0.5445238, 0.039308317, -0.327170...</td>\n",
       "      <td>[-0.01293812, 0.065178424, -0.04608697, -0.010...</td>\n",
       "    </tr>\n",
       "    <tr>\n",
       "      <th>...</th>\n",
       "      <td>...</td>\n",
       "      <td>...</td>\n",
       "      <td>...</td>\n",
       "      <td>...</td>\n",
       "      <td>...</td>\n",
       "    </tr>\n",
       "    <tr>\n",
       "      <th>9891</th>\n",
       "      <td>10120</td>\n",
       "      <td>Test qa</td>\n",
       "      <td>INCOMPLETE</td>\n",
       "      <td>[-0.037475403, 0.13656099, -0.054801382, 0.667...</td>\n",
       "      <td>[0.06226277, -0.008425264, -0.031678557, -0.04...</td>\n",
       "    </tr>\n",
       "    <tr>\n",
       "      <th>9892</th>\n",
       "      <td>10121</td>\n",
       "      <td>Lamb Strong Inc</td>\n",
       "      <td>INCOMPLETE</td>\n",
       "      <td>[0.40873337, -0.28501305, 1.0132746, -0.123601...</td>\n",
       "      <td>[-0.012503377, 0.061438844, -0.0067345053, 0.0...</td>\n",
       "    </tr>\n",
       "    <tr>\n",
       "      <th>9893</th>\n",
       "      <td>10122</td>\n",
       "      <td>Test qa 551</td>\n",
       "      <td>INCOMPLETE</td>\n",
       "      <td>[-0.069904484, 0.16863246, 0.11011889, 0.15451...</td>\n",
       "      <td>[-0.017052792, -0.0037189487, -0.015801629, 0....</td>\n",
       "    </tr>\n",
       "    <tr>\n",
       "      <th>9894</th>\n",
       "      <td>10123</td>\n",
       "      <td>Test ut</td>\n",
       "      <td>STANDARD</td>\n",
       "      <td>[0.20380749, 0.1713905, 0.28696936, -0.6777866...</td>\n",
       "      <td>[-0.040910114, -0.026950652, -0.0412945, 0.071...</td>\n",
       "    </tr>\n",
       "    <tr>\n",
       "      <th>9895</th>\n",
       "      <td>10124</td>\n",
       "      <td>QA Test 44</td>\n",
       "      <td>STANDARD</td>\n",
       "      <td>[0.21845604, 0.21617424, 0.2901552, -0.6674620...</td>\n",
       "      <td>[-0.0282198, -0.014100453, -0.044696912, 0.067...</td>\n",
       "    </tr>\n",
       "  </tbody>\n",
       "</table>\n",
       "<p>9896 rows × 5 columns</p>\n",
       "</div>"
      ],
      "text/plain": [
       "        id_              company_name account_type  \\\n",
       "0       197               Acquire App         DEMO   \n",
       "1       198       Polymateria Limited         DEMO   \n",
       "2       199         Affective Markets         DEMO   \n",
       "3       200  Afresh Technologies Inc.         DEMO   \n",
       "4       201               Aidock Ltd.         DEMO   \n",
       "...     ...                       ...          ...   \n",
       "9891  10120                   Test qa   INCOMPLETE   \n",
       "9892  10121           Lamb Strong Inc   INCOMPLETE   \n",
       "9893  10122               Test qa 551   INCOMPLETE   \n",
       "9894  10123                   Test ut     STANDARD   \n",
       "9895  10124                QA Test 44     STANDARD   \n",
       "\n",
       "                                            roberta_emb  \\\n",
       "0     [0.014017829, 0.20147103, -0.10118152, -0.0632...   \n",
       "1     [0.035784442, 0.44326508, -0.07529494, 0.04603...   \n",
       "2     [-0.06682719, 0.4243962, -0.018392464, -0.1590...   \n",
       "3     [0.09948933, -0.1278632, 0.01722331, 0.1215965...   \n",
       "4     [0.23271781, 0.5445238, 0.039308317, -0.327170...   \n",
       "...                                                 ...   \n",
       "9891  [-0.037475403, 0.13656099, -0.054801382, 0.667...   \n",
       "9892  [0.40873337, -0.28501305, 1.0132746, -0.123601...   \n",
       "9893  [-0.069904484, 0.16863246, 0.11011889, 0.15451...   \n",
       "9894  [0.20380749, 0.1713905, 0.28696936, -0.6777866...   \n",
       "9895  [0.21845604, 0.21617424, 0.2901552, -0.6674620...   \n",
       "\n",
       "                                             mpnet2_emb  \n",
       "0     [0.057079125, -0.008974648, -0.037592165, -0.0...  \n",
       "1     [0.080428354, 0.02010855, -0.02703527, -0.0144...  \n",
       "2     [0.001699026, 0.037716478, -0.058805294, -0.02...  \n",
       "3     [-0.018926082, 0.034481186, -0.054234214, -0.0...  \n",
       "4     [-0.01293812, 0.065178424, -0.04608697, -0.010...  \n",
       "...                                                 ...  \n",
       "9891  [0.06226277, -0.008425264, -0.031678557, -0.04...  \n",
       "9892  [-0.012503377, 0.061438844, -0.0067345053, 0.0...  \n",
       "9893  [-0.017052792, -0.0037189487, -0.015801629, 0....  \n",
       "9894  [-0.040910114, -0.026950652, -0.0412945, 0.071...  \n",
       "9895  [-0.0282198, -0.014100453, -0.044696912, 0.067...  \n",
       "\n",
       "[9896 rows x 5 columns]"
      ]
     },
     "execution_count": 14,
     "metadata": {},
     "output_type": "execute_result"
    }
   ],
   "source": [
    "df_emb"
   ]
  },
  {
   "cell_type": "code",
   "execution_count": 15,
   "id": "twenty-advisory",
   "metadata": {},
   "outputs": [],
   "source": [
    "# df_emb.to_pickle('embeddings.pkl')"
   ]
  },
  {
   "cell_type": "code",
   "execution_count": 16,
   "id": "civil-witch",
   "metadata": {},
   "outputs": [],
   "source": [
    "# test = pd.read_pickle('embeddings.pkl')\n",
    "# test.head()"
   ]
  }
 ],
 "metadata": {
  "kernelspec": {
   "display_name": "Python 3",
   "language": "python",
   "name": "python3"
  },
  "language_info": {
   "codemirror_mode": {
    "name": "ipython",
    "version": 3
   },
   "file_extension": ".py",
   "mimetype": "text/x-python",
   "name": "python",
   "nbconvert_exporter": "python",
   "pygments_lexer": "ipython3",
   "version": "3.8.5"
  }
 },
 "nbformat": 4,
 "nbformat_minor": 5
}
